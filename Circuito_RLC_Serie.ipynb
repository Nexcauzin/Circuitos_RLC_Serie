{
  "nbformat": 4,
  "nbformat_minor": 0,
  "metadata": {
    "colab": {
      "provenance": [],
      "authorship_tag": "ABX9TyP0rMW6iFGmspLn0/qeh/uQ",
      "include_colab_link": true
    },
    "kernelspec": {
      "name": "python3",
      "display_name": "Python 3"
    },
    "language_info": {
      "name": "python"
    }
  },
  "cells": [
    {
      "cell_type": "markdown",
      "metadata": {
        "id": "view-in-github",
        "colab_type": "text"
      },
      "source": [
        "<a href=\"https://colab.research.google.com/github/Nexcauzin/Circuitos_RLC_Serie/blob/main/Circuito_RLC_Serie.ipynb\" target=\"_parent\"><img src=\"https://colab.research.google.com/assets/colab-badge.svg\" alt=\"Open In Colab\"/></a>"
      ]
    },
    {
      "cell_type": "code",
      "execution_count": null,
      "metadata": {
        "id": "LOc2HS_XDlBV"
      },
      "outputs": [],
      "source": [
        "import matplotlib.pyplot as plt\n",
        "import numpy as np"
      ]
    },
    {
      "cell_type": "markdown",
      "source": [
        "# Dados e Cálculos do Circuito"
      ],
      "metadata": {
        "id": "7NWm_h6gZS8Q"
      }
    },
    {
      "cell_type": "markdown",
      "source": [
        "### Inputs"
      ],
      "metadata": {
        "id": "QAq1ryAjaems"
      }
    },
    {
      "cell_type": "code",
      "source": [
        "R = 4\n",
        "C = 1/np.power(10, 6)\n",
        "L = 8/np.power(10, 3)\n",
        "U = 12\n",
        "\n",
        "i_0 = U/R\n",
        "vc_0 = 0\n",
        "\n",
        "dt=0.001\n",
        "t_total = 15"
      ],
      "metadata": {
        "id": "NX99eJq6ZUj2"
      },
      "execution_count": 28,
      "outputs": []
    },
    {
      "cell_type": "markdown",
      "source": [
        "### Cálculos do Circuito"
      ],
      "metadata": {
        "id": "0ZCdZvt7af3U"
      }
    },
    {
      "cell_type": "code",
      "source": [
        "alpha = R/(2*L)\n",
        "omega_0 = 1/np.sqrt(L*C)\n",
        "\n",
        "if alpha < omega_0:\n",
        "  omega_d = np.sqrt(np.power(omega_0, 2) - np.power(alpha, 2))\n",
        "\n"
      ],
      "metadata": {
        "id": "Hmd1OIadary6"
      },
      "execution_count": 17,
      "outputs": []
    },
    {
      "cell_type": "code",
      "source": [
        "B1 = i_0\n",
        "B2 = -alpha*B1/11177.54"
      ],
      "metadata": {
        "id": "W_HeSrxmfsn_"
      },
      "execution_count": 23,
      "outputs": []
    },
    {
      "cell_type": "code",
      "source": [
        "print(f\"\"\"i(0): {i_0}\n",
        "alpha: {alpha}\n",
        "omega_0: {omega_0:.2f}\n",
        "omega_d: {omega_d:.2f}\n",
        "B1: {B1}\n",
        "B2: {B2}\n",
        "\"\"\")"
      ],
      "metadata": {
        "colab": {
          "base_uri": "https://localhost:8080/"
        },
        "id": "RcS56odSZ43c",
        "outputId": "13e47ea0-7d69-40aa-8b1a-14b051a4bd10"
      },
      "execution_count": 24,
      "outputs": [
        {
          "output_type": "stream",
          "name": "stdout",
          "text": [
            "i(0): 3.0\n",
            "alpha: 250.0\n",
            "omega_0: 11180.34\n",
            "omega_d: 11177.54\n",
            "B1: 3.0\n",
            "B2: -0.06709884285808862\n",
            "\n"
          ]
        }
      ]
    },
    {
      "cell_type": "markdown",
      "source": [
        "# Funções e Arrays para os Gráficos"
      ],
      "metadata": {
        "id": "O5vXZNb2FHL4"
      }
    },
    {
      "cell_type": "code",
      "source": [
        "def func_i_t(tempo):\n",
        "  return np.exp(-alpha*tempo)*(B1*np.cos(omega_d*tempo) + B2*np.sin(omega_d*tempo))\n",
        "\n",
        "def func_vl_t(tempo):\n",
        "  return -268*np.exp(-250*tempo)*np.sin(11177.54*tempo)\n",
        "\n",
        "def func_vc_t(tempo):\n",
        "  return (( ((-6/np.power(10,6)) * np.cos(11177.54*tempo)) - ((1.342/np.power(10,7)) * np.sin(11177.54*tempo)))*np.exp(-250*tempo)) + (( ((-6/np.power(10,6)) * np.cos(11177.54*tempo)) + ((2.682/np.power(10,7)) * np.sin(11177.54*tempo)))*np.exp(-250*tempo))\n",
        "\n"
      ],
      "metadata": {
        "id": "alo-eN5vD0R6"
      },
      "execution_count": 26,
      "outputs": []
    },
    {
      "cell_type": "code",
      "source": [
        "t = np.array([t * 0.001 for t in range(t_total*1000)])\n",
        "\n",
        "i_t = func_i_t(t)\n",
        "vl_t = func_i_t(t)\n",
        "vc_t = func_vc_t(t)\n",
        "\n",
        "\n",
        "print(f\"i(t) = {i_t}\")\n",
        "print(f\"Vl(t) = {vl_t}\")\n",
        "print(f\"Vc(t) = {vc_t}\")"
      ],
      "metadata": {
        "colab": {
          "base_uri": "https://localhost:8080/"
        },
        "id": "_kiC949jn20K",
        "outputId": "52017d65-1a91-40b8-c712-9a095970d71d"
      },
      "execution_count": 35,
      "outputs": [
        {
          "output_type": "stream",
          "name": "stdout",
          "text": [
            "i(t) = [ 3.          0.47420686 -1.68592475 ...  0.          0.\n",
            " -0.        ]\n",
            "Vl(t) = [ 3.          0.47420686 -1.68592475 ...  0.          0.\n",
            " -0.        ]\n",
            "Vc(t) = [-1.20000000e-05 -1.79384752e-06  6.77273875e-06 ... -0.00000000e+00\n",
            " -0.00000000e+00  0.00000000e+00]\n"
          ]
        }
      ]
    },
    {
      "cell_type": "markdown",
      "source": [],
      "metadata": {
        "id": "aLeNE-IepHB_"
      }
    },
    {
      "cell_type": "markdown",
      "source": [
        "# Gráfico Vc(t)"
      ],
      "metadata": {
        "id": "uXUQ7ishFNwg"
      }
    },
    {
      "cell_type": "code",
      "source": [],
      "metadata": {
        "id": "RPD1VPxIFRG5"
      },
      "execution_count": null,
      "outputs": []
    },
    {
      "cell_type": "markdown",
      "source": [
        "# Gráfico i(t)"
      ],
      "metadata": {
        "id": "dChRyL4cFTqO"
      }
    },
    {
      "cell_type": "code",
      "source": [],
      "metadata": {
        "id": "O9sl47rOFU3a"
      },
      "execution_count": null,
      "outputs": []
    },
    {
      "cell_type": "markdown",
      "source": [
        "# Máxima tensão no indutor"
      ],
      "metadata": {
        "id": "5a0uv-Wgpdsq"
      }
    },
    {
      "cell_type": "code",
      "source": [
        "max_vl = func_vl_t(140.5/np.power(10, 6))\n",
        "print(f\"Vl_max = {max_vl}\")"
      ],
      "metadata": {
        "colab": {
          "base_uri": "https://localhost:8080/"
        },
        "id": "9wRnJysJpJu7",
        "outputId": "2d88d1a5-bb35-4ec8-f6ad-a3a077190a0b"
      },
      "execution_count": 40,
      "outputs": [
        {
          "output_type": "stream",
          "name": "stdout",
          "text": [
            "Vl_max = -258.74988977109615\n"
          ]
        }
      ]
    }
  ]
}