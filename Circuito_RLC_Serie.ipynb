{
  "nbformat": 4,
  "nbformat_minor": 0,
  "metadata": {
    "colab": {
      "provenance": [],
      "authorship_tag": "ABX9TyNo1nuJmj54LdV3J/+jf5Ly",
      "include_colab_link": true
    },
    "kernelspec": {
      "name": "python3",
      "display_name": "Python 3"
    },
    "language_info": {
      "name": "python"
    }
  },
  "cells": [
    {
      "cell_type": "markdown",
      "metadata": {
        "id": "view-in-github",
        "colab_type": "text"
      },
      "source": [
        "<a href=\"https://colab.research.google.com/github/Nexcauzin/Circuitos_RLC_Serie/blob/main/Circuito_RLC_Serie.ipynb\" target=\"_parent\"><img src=\"https://colab.research.google.com/assets/colab-badge.svg\" alt=\"Open In Colab\"/></a>"
      ]
    },
    {
      "cell_type": "code",
      "execution_count": null,
      "metadata": {
        "id": "LOc2HS_XDlBV"
      },
      "outputs": [],
      "source": [
        "import matplotlib.pyplot as plt\n",
        "import numpy as np"
      ]
    },
    {
      "cell_type": "markdown",
      "source": [
        "# Dados para os Gráficos"
      ],
      "metadata": {
        "id": "O5vXZNb2FHL4"
      }
    },
    {
      "cell_type": "code",
      "source": [],
      "metadata": {
        "id": "alo-eN5vD0R6"
      },
      "execution_count": null,
      "outputs": []
    },
    {
      "cell_type": "markdown",
      "source": [
        "# Gráfico Vc(t)"
      ],
      "metadata": {
        "id": "uXUQ7ishFNwg"
      }
    },
    {
      "cell_type": "code",
      "source": [],
      "metadata": {
        "id": "RPD1VPxIFRG5"
      },
      "execution_count": null,
      "outputs": []
    },
    {
      "cell_type": "markdown",
      "source": [
        "# Gráfico i(t)"
      ],
      "metadata": {
        "id": "dChRyL4cFTqO"
      }
    },
    {
      "cell_type": "code",
      "source": [],
      "metadata": {
        "id": "O9sl47rOFU3a"
      },
      "execution_count": null,
      "outputs": []
    }
  ]
}